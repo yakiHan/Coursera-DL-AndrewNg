{
 "cells": [
  {
   "cell_type": "markdown",
   "metadata": {},
   "source": [
    "# Convolutional Neural Networks: Application\n",
    "\n",
    "Welcome to Course 4's second assignment! In this notebook, you will:\n",
    "\n",
    "- Create a mood classifer using the TF Keras Sequential API\n",
    "- Build a ConvNet to identify sign language digits using the TF Keras Functional API\n",
    "\n",
    "**After this assignment you will be able to:**\n",
    "\n",
    "- Build and train a ConvNet in TensorFlow for a __binary__ classification problem\n",
    "- Build and train a ConvNet in TensorFlow for a __multiclass__ classification problem\n",
    "- Explain different use cases for the Sequential and Functional APIs\n",
    "\n",
    "To complete this assignment, you should already be familiar with TensorFlow. If you are not, please refer back to the **TensorFlow Tutorial** of the third week of Course 2 (\"**Improving deep neural networks**\")."
   ]
  },
  {
   "cell_type": "markdown",
   "metadata": {},
   "source": [
    "## Table of Contents\n",
    "\n",
    "- [1 - Packages](#1)\n",
    "    - [1.1 - Load the Data and Split the Data into Train/Test Sets](#1-1)\n",
    "- [2 - Layers in TF Keras](#2)\n",
    "- [3 - The Sequential API](#3)\n",
    "    - [3.1 - Create the Sequential Model](#3-1)\n",
    "        - [Exercise 1 - happyModel](#ex-1)\n",
    "    - [3.2 - Train and Evaluate the Model](#3-2)\n",
    "- [4 - The Functional API](#4)\n",
    "    - [4.1 - Load the SIGNS Dataset](#4-1)\n",
    "    - [4.2 - Split the Data into Train/Test Sets](#4-2)\n",
    "    - [4.3 - Forward Propagation](#4-3)\n",
    "        - [Exercise 2 - convolutional_model](#ex-2)\n",
    "    - [4.4 - Train the Model](#4-4)\n",
    "- [5 - History Object](#5)\n",
    "- [6 - Bibliography](#6)"
   ]
  },
  {
   "cell_type": "markdown",
   "metadata": {},
   "source": [
    "<a name='1'></a>\n",
    "## 1 - Packages\n",
    "\n",
    "As usual, begin by loading in the packages."
   ]
  },
  {
   "cell_type": "code",
   "execution_count": 3,
   "metadata": {},
   "outputs": [],
   "source": [
    "import math\n",
    "import numpy as np\n",
    "import h5py\n",
    "import matplotlib.pyplot as plt\n",
    "from matplotlib.pyplot import imread\n",
    "import scipy\n",
    "from PIL import Image\n",
    "import pandas as pd\n",
    "import tensorflow as tf\n",
    "import tensorflow.keras.layers as tfl\n",
    "from tensorflow.python.framework import ops\n",
    "from cnn_utils import *\n",
    "from test_utils import summary, comparator\n",
    "\n",
    "%matplotlib inline\n",
    "np.random.seed(1)"
   ]
  },
  {
   "cell_type": "markdown",
   "metadata": {},
   "source": [
    "<a name='1-1'></a>\n",
    "### 1.1 - Load the Data and Split the Data into Train/Test Sets\n",
    "\n",
    "You'll be using the Happy House dataset for this part of the assignment, which contains images of peoples' faces. Your task will be to build a ConvNet that determines whether the people in the images are smiling or not -- because they only get to enter the house if they're smiling!  "
   ]
  },
  {
   "cell_type": "code",
   "execution_count": 4,
   "metadata": {},
   "outputs": [
    {
     "name": "stdout",
     "output_type": "stream",
     "text": [
      "number of training examples = 600\n",
      "number of test examples = 150\n",
      "X_train shape: (600, 64, 64, 3)\n",
      "Y_train shape: (600, 1)\n",
      "X_test shape: (150, 64, 64, 3)\n",
      "Y_test shape: (150, 1)\n"
     ]
    }
   ],
   "source": [
    "X_train_orig, Y_train_orig, X_test_orig, Y_test_orig, classes = load_happy_dataset()\n",
    "\n",
    "# Normalize image vectors\n",
    "X_train = X_train_orig / 255.\n",
    "X_test = X_test_orig / 255.\n",
    "\n",
    "# Reshape\n",
    "Y_train = Y_train_orig.T\n",
    "Y_test = Y_test_orig.T\n",
    "\n",
    "print(\"number of training examples = \" + str(X_train.shape[0]))\n",
    "print(\"number of test examples = \" + str(X_test.shape[0]))\n",
    "print(\"X_train shape: \" + str(X_train.shape))\n",
    "print(\"Y_train shape: \" + str(Y_train.shape))\n",
    "print(\"X_test shape: \" + str(X_test.shape))\n",
    "print(\"Y_test shape: \" + str(Y_test.shape))"
   ]
  },
  {
   "cell_type": "markdown",
   "metadata": {},
   "source": [
    "You can display the images contained in the dataset. Images are **64x64** pixels in RGB format (3 channels)."
   ]
  },
  {
   "cell_type": "code",
   "execution_count": 5,
   "metadata": {},
   "outputs": [
    {
     "data": {
      "image/png": "[encoded data removed]",
      "text/plain": [
       "<Figure size 432x288 with 1 Axes>"
      ]
     },
     "metadata": {
      "needs_background": "light"
     },
     "output_type": "display_data"
    }
   ],
   "source": [
    "index = 124\n",
    "plt.imshow(X_train_orig[index])  # display sample training image\n",
    "plt.show()"
   ]
  },
  {
   "cell_type": "markdown",
   "metadata": {},
   "source": [
    "<a name='2'></a>\n",
    "## 2 - Layers in TF Keras \n",
    "\n",
    "In the previous assignment, you created layers manually in numpy. In TF Keras, you don't have to write code directly to create layers. Rather, TF Keras has pre-defined layers you can use. \n",
    "\n",
    "When you create a layer in TF Keras, you are creating a function that takes some input and transforms it into an output you can reuse later. Nice and easy! "
   ]
  },
  {
   "cell_type": "markdown",
   "metadata": {},
   "source": [
    "<a name='3'></a>\n",
    "## 3 - The Sequential API\n",
    "\n",
    "In the previous assignment, you built helper functions using `numpy` to understand the mechanics behind convolutional neural networks. Most practical applications of deep learning today are built using programming frameworks, which have many built-in functions you can simply call. Keras is a high-level abstraction built on top of TensorFlow, which allows for even more simplified and optimized model creation and training. \n",
    "\n",
    "For the first part of this assignment, you'll create a model using TF Keras' Sequential API, which allows you to build layer by layer, and is ideal for building models where each layer has **exactly one** input tensor and **one** output tensor. \n",
    "\n",
    "As you'll see, using the Sequential API is simple and straightforward, but is only appropriate for simpler, more straightforward tasks. Later in this notebook you'll spend some time building with a more flexible, powerful alternative: the Functional API. \n",
    " "
   ]
  },
  {
   "cell_type": "markdown",
   "metadata": {},
   "source": [
    "<a name='3-1'></a>\n",
    "### 3.1 - Create the Sequential Model\n",
    "\n",
    "As mentioned earlier, the TensorFlow Keras Sequential API can be used to build simple models with layer operations that proceed in a sequential order. \n",
    "\n",
    "You can also add layers incrementally to a Sequential model with the `.add()` method, or remove them using the `.pop()` method, much like you would in a regular Python list.\n",
    "\n",
    "Actually, you can think of a Sequential model as behaving like a list of layers. Like Python lists, Sequential layers are ordered, and the order in which they are specified matters.  If your model is non-linear or contains layers with multiple inputs or outputs, a Sequential model wouldn't be the right choice!\n",
    "\n",
    "For any layer construction in Keras, you'll need to specify the input shape in advance. This is because in Keras, the shape of the weights is based on the shape of the inputs. The weights are only created when the model first sees some input data. Sequential models can be created by passing a list of layers to the Sequential constructor, like you will do in the next assignment.\n",
    "\n",
    "<a name='ex-1'></a>\n",
    "### Exercise 1 - happyModel\n",
    "\n",
    "Implement the `happyModel` function below to build the following model: `ZEROPAD2D -> CONV2D -> BATCHNORM -> RELU -> MAXPOOL -> FLATTEN -> DENSE`. Take help from [tf.keras.layers](https://www.tensorflow.org/api_docs/python/tf/keras/layers) \n",
    "\n",
    "Also, plug in the following parameters for all the steps:\n",
    "\n",
    " - [ZeroPadding2D](https://www.tensorflow.org/api_docs/python/tf/keras/layers/ZeroPadding2D): padding 3, input shape 64 x 64 x 3\n",
    " - [Conv2D](https://www.tensorflow.org/api_docs/python/tf/keras/layers/Conv2D): Use 32 7x7 filters, stride 1\n",
    " - [BatchNormalization](https://www.tensorflow.org/api_docs/python/tf/keras/layers/BatchNormalization): for axis 3\n",
    " - [ReLU](https://www.tensorflow.org/api_docs/python/tf/keras/layers/ReLU)\n",
    " - [MaxPool2D](https://www.tensorflow.org/api_docs/python/tf/keras/layers/MaxPool2D): Using default parameters\n",
    " - [Flatten](https://www.tensorflow.org/api_docs/python/tf/keras/layers/Flatten) the previous output.\n",
    " - Fully-connected ([Dense](https://www.tensorflow.org/api_docs/python/tf/keras/layers/Dense)) layer: Apply a fully connected layer with 1 neuron and a sigmoid activation. \n",
    " \n",
    " \n",
    " **Hint:**\n",
    " \n",
    " Use **tfl** as shorthand for **tensorflow.keras.layers**"
   ]
  },
  {
   "cell_type": "code",
   "execution_count": 6,
   "metadata": {
    "deletable": false,
    "nbgrader": {
     "cell_type": "code",
     "checksum": "95d28b191f257bdd5b70c7b8952559d5",
     "grade": false,
     "grade_id": "cell-0e56d3fc28b69aec",
     "locked": false,
     "schema_version": 3,
     "solution": true,
     "task": false
    }
   },
   "outputs": [],
   "source": [
    "# GRADED FUNCTION: happyModel\n",
    "\n",
    "def happyModel():\n",
    "    \"\"\"\n",
    "    Implements the forward propagation for the binary classification model:\n",
    "    ZEROPAD2D -> CONV2D -> BATCHNORM -> RELU -> MAXPOOL -> FLATTEN -> DENSE\n",
    "\n",
    "    Note that for simplicity and grading purposes, you'll hard-code all the values\n",
    "    such as the stride and kernel (filter) sizes. \n",
    "    Normally, functions should take these values as function parameters.\n",
    "\n",
    "    Arguments:\n",
    "    None\n",
    "\n",
    "    Returns:\n",
    "    model -- TF Keras model (object containing the information for the entire training process) \n",
    "    \"\"\"\n",
    "    model = tf.keras.Sequential([\n",
    "        # ZeroPadding2D with padding 3, input shape of 64 x 64 x 3\n",
    "\n",
    "        # Conv2D with 32 7x7 filters and stride of 1\n",
    "\n",
    "        # BatchNormalization for axis 3\n",
    "\n",
    "        # ReLU\n",
    "\n",
    "        # Max Pooling 2D with default parameters\n",
    "\n",
    "        # Flatten layer\n",
    "\n",
    "        # Dense layer with 1 unit for output & 'sigmoid' activation\n",
    "\n",
    "        # YOUR CODE STARTS HERE\n",
    "        tf.keras.layers.ZeroPadding2D(padding=(3, 3), input_shape=(\n",
    "            64, 64, 3), data_format=\"channels_last\"),\n",
    "        tf.keras.layers.Conv2D(32, (7, 7), strides=(1, 1), name='conv0'),\n",
    "        tf.keras.layers.BatchNormalization(axis=3, name='bn0'),\n",
    "        tf.keras.layers.ReLU(\n",
    "            max_value=None, negative_slope=0.0, threshold=0.0\n",
    "        ),\n",
    "        tf.keras.layers.MaxPooling2D((2, 2), name='max_pool0'),\n",
    "        tf.keras.layers.Flatten(),\n",
    "        tf.keras.layers.Dense(1, activation='sigmoid', name='fc'),\n",
    "        # YOUR CODE ENDS HERE\n",
    "    ])\n",
    "\n",
    "    return model"
   ]
  },
  {
   "cell_type": "code",
   "execution_count": 7,
   "metadata": {
    "deletable": false,
    "editable": false,
    "nbgrader": {
     "cell_type": "code",
     "checksum": "8d3575c950e2e78149be2d05d671c80d",
     "grade": true,
     "grade_id": "cell-e3e1046e5c33d775",
     "locked": true,
     "points": 10,
     "schema_version": 3,
     "solution": false,
     "task": false
    }
   },
   "outputs": [
    {
     "name": "stdout",
     "output_type": "stream",
     "text": [
      "['ZeroPadding2D', (None, 70, 70, 3), 0, ((3, 3), (3, 3))]\n",
      "['Conv2D', (None, 64, 64, 32), 4736, 'valid', 'linear', 'GlorotUniform']\n",
      "['BatchNormalization', (None, 64, 64, 32), 128]\n",
      "['ReLU', (None, 64, 64, 32), 0]\n",
      "['MaxPooling2D', (None, 32, 32, 32), 0, (2, 2), (2, 2), 'valid']\n",
      "['Flatten', (None, 32768), 0]\n",
      "['Dense', (None, 1), 32769, 'sigmoid']\n",
      "\u001b[32mAll tests passed!\u001b[0m\n"
     ]
    }
   ],
   "source": [
    "happy_model = happyModel()\n",
    "# Print a summary for each layer\n",
    "for layer in summary(happy_model):\n",
    "    print(layer)\n",
    "\n",
    "output = [['ZeroPadding2D', (None, 70, 70, 3), 0, ((3, 3), (3, 3))],\n",
    "          ['Conv2D', (None, 64, 64, 32), 4736, 'valid',\n",
    "           'linear', 'GlorotUniform'],\n",
    "          ['BatchNormalization', (None, 64, 64, 32), 128],\n",
    "          ['ReLU', (None, 64, 64, 32), 0],\n",
    "          ['MaxPooling2D', (None, 32, 32, 32), 0, (2, 2), (2, 2), 'valid'],\n",
    "          ['Flatten', (None, 32768), 0],\n",
    "          ['Dense', (None, 1), 32769, 'sigmoid']]\n",
    "\n",
    "comparator(summary(happy_model), output)"
   ]
  },
  {
   "cell_type": "markdown",
   "metadata": {},
   "source": [
    "Now that your model is created, you can compile it for training with an optimizer and loss of your choice. When the string `accuracy` is specified as a metric, the type of accuracy used will be automatically converted based on the loss function used. This is one of the many optimizations built into TensorFlow that make your life easier! If you'd like to read more on how the compiler operates, check the docs [here](https://www.tensorflow.org/api_docs/python/tf/keras/Model#compile)."
   ]
  },
  {
   "cell_type": "code",
   "execution_count": 8,
   "metadata": {},
   "outputs": [],
   "source": [
    "happy_model.compile(optimizer='adam',\n",
    "                    loss='binary_crossentropy',\n",
    "                    metrics=['accuracy'])"
   ]
  },
  {
   "cell_type": "markdown",
   "metadata": {},
   "source": [
    "It's time to check your model's parameters with the `.summary()` method. This will display the types of layers you have, the shape of the outputs, and how many parameters are in each layer. "
   ]
  },
  {
   "cell_type": "code",
   "execution_count": 9,
   "metadata": {},
   "outputs": [
    {
     "name": "stdout",
     "output_type": "stream",
     "text": [
      "Model: \"sequential\"\n",
      "_________________________________________________________________\n",
      "Layer (type)                 Output Shape              Param #   \n",
      "=================================================================\n",
      "zero_padding2d (ZeroPadding2 (None, 70, 70, 3)         0         \n",
      "_________________________________________________________________\n",
      "conv0 (Conv2D)               (None, 64, 64, 32)        4736      \n",
      "_________________________________________________________________\n",
      "bn0 (BatchNormalization)     (None, 64, 64, 32)        128       \n",
      "_________________________________________________________________\n",
      "re_lu (ReLU)                 (None, 64, 64, 32)        0         \n",
      "_________________________________________________________________\n",
      "max_pool0 (MaxPooling2D)     (None, 32, 32, 32)        0         \n",
      "_________________________________________________________________\n",
      "flatten (Flatten)            (None, 32768)             0         \n",
      "_________________________________________________________________\n",
      "fc (Dense)                   (None, 1)                 32769     \n",
      "=================================================================\n",
      "Total params: 37,633\n",
      "Trainable params: 37,569\n",
      "Non-trainable params: 64\n",
      "_________________________________________________________________\n"
     ]
    }
   ],
   "source": [
    "happy_model.summary()"
   ]
  },
  {
   "cell_type": "markdown",
   "metadata": {
    "tags": []
   },
   "source": [
    "<a name='3-2'></a>\n",
    "### 3.2 - Train and Evaluate the Model\n",
    "\n",
    "After creating the model, compiling it with your choice of optimizer and loss function, and doing a sanity check on its contents, you are now ready to build! \n",
    "\n",
    "Simply call `.fit()` to train. That's it! No need for mini-batching, saving, or complex backpropagation computations. That's all been done for you, as you're using a TensorFlow dataset with the batches specified already. You do have the option to specify epoch number or minibatch size if you like (for example, in the case of an un-batched dataset)."
   ]
  },
  {
   "cell_type": "code",
   "execution_count": 10,
   "metadata": {},
   "outputs": [
    {
     "name": "stdout",
     "output_type": "stream",
     "text": [
      "Epoch 1/10\n",
      "38/38 [==============================] - 3s 68ms/step - loss: 0.7362 - accuracy: 0.7367\n",
      "Epoch 2/10\n",
      "38/38 [==============================] - 3s 66ms/step - loss: 0.2541 - accuracy: 0.9017\n",
      "Epoch 3/10\n",
      "38/38 [==============================] - 2s 65ms/step - loss: 0.2108 - accuracy: 0.9300\n",
      "Epoch 4/10\n",
      "38/38 [==============================] - 3s 68ms/step - loss: 0.1657 - accuracy: 0.9383\n",
      "Epoch 5/10\n",
      "38/38 [==============================] - 3s 69ms/step - loss: 0.1522 - accuracy: 0.9483\n",
      "Epoch 6/10\n",
      "38/38 [==============================] - 3s 69ms/step - loss: 0.1616 - accuracy: 0.9417\n",
      "Epoch 7/10\n",
      "38/38 [==============================] - 3s 67ms/step - loss: 0.1701 - accuracy: 0.9417\n",
      "Epoch 8/10\n",
      "38/38 [==============================] - 3s 66ms/step - loss: 0.0870 - accuracy: 0.9733\n",
      "Epoch 9/10\n",
      "38/38 [==============================] - 3s 72ms/step - loss: 0.0994 - accuracy: 0.9667\n",
      "Epoch 10/10\n",
      "38/38 [==============================] - 3s 82ms/step - loss: 0.1050 - accuracy: 0.9617\n"
     ]
    },
    {
     "data": {
      "text/plain": [
       "<tensorflow.python.keras.callbacks.History at 0x20b7045c8b0>"
      ]
     },
     "execution_count": 10,
     "metadata": {},
     "output_type": "execute_result"
    }
   ],
   "source": [
    "happy_model.fit(X_train, Y_train, epochs=10, batch_size=16)"
   ]
  },
  {
   "cell_type": "markdown",
   "metadata": {},
   "source": [
    "After that completes, just use `.evaluate()` to evaluate against your test set. This function will print the value of the loss function and the performance metrics specified during the compilation of the model. In this case, the `binary_crossentropy` and the `accuracy` respectively."
   ]
  },
  {
   "cell_type": "code",
   "execution_count": 11,
   "metadata": {},
   "outputs": [
    {
     "name": "stdout",
     "output_type": "stream",
     "text": [
      "5/5 [==============================] - 0s 16ms/step - loss: 0.1664 - accuracy: 0.9267\n"
     ]
    },
    {
     "data": {
      "text/plain": [
       "[0.16644909977912903, 0.9266666769981384]"
      ]
     },
     "execution_count": 11,
     "metadata": {},
     "output_type": "execute_result"
    }
   ],
   "source": [
    "happy_model.evaluate(X_test, Y_test)"
   ]
  },
  {
   "cell_type": "markdown",
   "metadata": {},
   "source": [
    "Easy, right? But what if you need to build a model with shared layers, branches, or multiple inputs and outputs? This is where Sequential, with its beautifully simple yet limited functionality, won't be able to help you. \n",
    "\n",
    "Next up: Enter the Functional API, your slightly more complex, highly flexible friend.  "
   ]
  },
  {
   "cell_type": "markdown",
   "metadata": {},
   "source": [
    "<a name='4'></a>\n",
    "## 4 - The Functional API"
   ]
  },
  {
   "cell_type": "markdown",
   "metadata": {},
   "source": [
    "Welcome to the second half of the assignment, where you'll use Keras' flexible [Functional API](https://www.tensorflow.org/guide/keras/functional) to build a ConvNet that can differentiate between 6 sign language digits. \n",
    "\n",
    "The Functional API can handle models with non-linear topology, shared layers, as well as layers with multiple inputs or outputs. Imagine that, where the Sequential API requires the model to move in a linear fashion through its layers, the Functional API allows much more flexibility. Where Sequential is a straight line, a Functional model is a graph, where the nodes of the layers can connect in many more ways than one. \n",
    "\n",
    "In the visual example below, the one possible direction of the movement Sequential model is shown in contrast to a skip connection, which is just one of the many ways a Functional model can be constructed. A skip connection, as you might have guessed, skips some layer in the network and feeds the output to a later layer in the network. Don't worry, you'll be spending more time with skip connections very soon! "
   ]
  },
  {
   "cell_type": "markdown",
   "metadata": {},
   "source": [
    "<img src=\"images/seq_vs_func.png\" style=\"width:350px;height:200px;\">"
   ]
  },
  {
   "cell_type": "markdown",
   "metadata": {},
   "source": [
    "<a name='4-1'></a>\n",
    "### 4.1 - Load the SIGNS Dataset\n",
    "\n",
    "As a reminder, the SIGNS dataset is a collection of 6 signs representing numbers from 0 to 5."
   ]
  },
  {
   "cell_type": "code",
   "execution_count": 16,
   "metadata": {},
   "outputs": [],
   "source": [
    "# Loading the data (signs)\n",
    "X_train_orig, Y_train_orig, X_test_orig, Y_test_orig, classes = load_signs_dataset()"
   ]
  },
  {
   "cell_type": "markdown",
   "metadata": {},
   "source": [
    "<img src=\"images/SIGNS.png\" style=\"width:800px;height:300px;\">\n",
    "\n",
    "The next cell will show you an example of a labelled image in the dataset. Feel free to change the value of `index` below and re-run to see different examples. "
   ]
  },
  {
   "cell_type": "code",
   "execution_count": 17,
   "metadata": {},
   "outputs": [
    {
     "name": "stdout",
     "output_type": "stream",
     "text": [
      "y = 4\n"
     ]
    },
    {
     "data": {
      "image/png": "[encoded data removed]",
      "text/plain": [
       "<Figure size 432x288 with 1 Axes>"
      ]
     },
     "metadata": {
      "needs_background": "light"
     },
     "output_type": "display_data"
    }
   ],
   "source": [
    "# Example of an image from the dataset\n",
    "index = 9\n",
    "plt.imshow(X_train_orig[index])\n",
    "print(\"y = \" + str(np.squeeze(Y_train_orig[:, index])))"
   ]
  },
  {
   "cell_type": "markdown",
   "metadata": {},
   "source": [
    "<a name='4-2'></a>\n",
    "### 4.2 - Split the Data into Train/Test Sets\n",
    "\n",
    "In Course 2, you built a fully-connected network for this dataset. But since this is an image dataset, it is more natural to apply a ConvNet to it.\n",
    "\n",
    "To get started, let's examine the shapes of your data. "
   ]
  },
  {
   "cell_type": "code",
   "execution_count": 18,
   "metadata": {},
   "outputs": [
    {
     "name": "stdout",
     "output_type": "stream",
     "text": [
      "number of training examples = 1080\n",
      "number of test examples = 120\n",
      "X_train shape: (1080, 64, 64, 3)\n",
      "Y_train shape: (1080, 6)\n",
      "X_test shape: (120, 64, 64, 3)\n",
      "Y_test shape: (120, 6)\n"
     ]
    }
   ],
   "source": [
    "X_train = X_train_orig / 255.\n",
    "X_test = X_test_orig / 255.\n",
    "Y_train = convert_to_one_hot(Y_train_orig, 6).T\n",
    "Y_test = convert_to_one_hot(Y_test_orig, 6).T\n",
    "print(\"number of training examples = \" + str(X_train.shape[0]))\n",
    "print(\"number of test examples = \" + str(X_test.shape[0]))\n",
    "print(\"X_train shape: \" + str(X_train.shape))\n",
    "print(\"Y_train shape: \" + str(Y_train.shape))\n",
    "print(\"X_test shape: \" + str(X_test.shape))\n",
    "print(\"Y_test shape: \" + str(Y_test.shape))"
   ]
  },
  {
   "cell_type": "markdown",
   "metadata": {},
   "source": [
    "<a name='4-3'></a>\n",
    "### 4.3 - Forward Propagation\n",
    "\n",
    "In TensorFlow, there are built-in functions that implement the convolution steps for you. By now, you should be familiar with how TensorFlow builds computational graphs. In the [Functional API](https://www.tensorflow.org/guide/keras/functional), you create a graph of layers. This is what allows such great flexibility.\n",
    "\n",
    "However, the following model could also be defined using the Sequential API since the information flow is on a single line. But don't deviate. What we want you to learn is to use the functional API.\n",
    "\n",
    "Begin building your graph of layers by creating an input node that functions as a callable object:\n",
    "\n",
    "- **input_img = tf.keras.Input(shape=input_shape):** \n",
    "\n",
    "Then, create a new node in the graph of layers by calling a layer on the `input_img` object: \n",
    "\n",
    "- **tf.keras.layers.Conv2D(filters= ... , kernel_size= ... , padding='same')(input_img):** Read the full documentation on [Conv2D](https://www.tensorflow.org/api_docs/python/tf/keras/layers/Conv2D).\n",
    "\n",
    "- **tf.keras.layers.MaxPool2D(pool_size=(f, f), strides=(s, s), padding='same'):** `MaxPool2D()` downsamples your input using a window of size (f, f) and strides of size (s, s) to carry out max pooling over each window.  For max pooling, you usually operate on a single example at a time and a single channel at a time. Read the full documentation on [MaxPool2D](https://www.tensorflow.org/api_docs/python/tf/keras/layers/MaxPool2D).\n",
    "\n",
    "- **tf.keras.layers.ReLU():** computes the elementwise ReLU of Z (which can be any shape). You can read the full documentation on [ReLU](https://www.tensorflow.org/api_docs/python/tf/keras/layers/ReLU).\n",
    "\n",
    "- **tf.keras.layers.Flatten()**: given a tensor \"P\", this function takes each training (or test) example in the batch and flattens it into a 1D vector.  \n",
    "\n",
    "    * If a tensor P has the shape (batch_size,h,w,c), it returns a flattened tensor with shape (batch_size, k), where $k=h \\times w \\times c$.  \"k\" equals the product of all the dimension sizes other than the first dimension.\n",
    "    \n",
    "    * For example, given a tensor with dimensions [100, 2, 3, 4], it flattens the tensor to be of shape [100, 24], where 24 = 2 * 3 * 4.  You can read the full documentation on [Flatten](https://www.tensorflow.org/api_docs/python/tf/keras/layers/Flatten).\n",
    "\n",
    "- **tf.keras.layers.Dense(units= ... , activation='softmax')(F):** given the flattened input F, it returns the output computed using a fully connected layer. You can read the full documentation on [Dense](https://www.tensorflow.org/api_docs/python/tf/keras/layers/Dense).\n",
    "\n",
    "In the last function above (`tf.keras.layers.Dense()`), the fully connected layer automatically initializes weights in the graph and keeps on training them as you train the model. Hence, you did not need to initialize those weights when initializing the parameters.\n",
    "\n",
    "Lastly, before creating the model, you'll need to define the output using the last of the function's compositions (in this example, a Dense layer): \n",
    "\n",
    "- **outputs = tf.keras.layers.Dense(units=6, activation='softmax')(F)**\n",
    "\n",
    "\n",
    "#### Window, kernel, filter, pool\n",
    "\n",
    "The words \"kernel\" and \"filter\" are used to refer to the same thing. The word \"filter\" accounts for the amount of \"kernels\" that will be used in a single convolution layer. \"Pool\" is the name of the operation that takes the max or average value of the kernels. \n",
    "\n",
    "This is why the parameter `pool_size` refers to `kernel_size`, and you use `(f,f)` to refer to the filter size. \n",
    "\n",
    "Pool size and kernel size refer to the same thing in different objects - They refer to the shape of the window where the operation takes place. "
   ]
  },
  {
   "cell_type": "markdown",
   "metadata": {},
   "source": [
    "<a name='ex-2'></a>\n",
    "### Exercise 2 - convolutional_model\n",
    "\n",
    "Implement the `convolutional_model` function below to build the following model: `CONV2D -> RELU -> MAXPOOL -> CONV2D -> RELU -> MAXPOOL -> FLATTEN -> DENSE`. Use the functions above! \n",
    "\n",
    "Also, plug in the following parameters for all the steps:\n",
    "\n",
    " - [Conv2D](https://www.tensorflow.org/api_docs/python/tf/keras/layers/Conv2D): Use 8 4 by 4 filters, stride 1, padding is \"SAME\"\n",
    " - [ReLU](https://www.tensorflow.org/api_docs/python/tf/keras/layers/ReLU)\n",
    " - [MaxPool2D](https://www.tensorflow.org/api_docs/python/tf/keras/layers/MaxPool2D): Use an 8 by 8 filter size and an 8 by 8 stride, padding is \"SAME\"\n",
    " - **Conv2D**: Use 16 2 by 2 filters, stride 1, padding is \"SAME\"\n",
    " - **ReLU**\n",
    " - **MaxPool2D**: Use a 4 by 4 filter size and a 4 by 4 stride, padding is \"SAME\"\n",
    " - [Flatten](https://www.tensorflow.org/api_docs/python/tf/keras/layers/Flatten) the previous output.\n",
    " - Fully-connected ([Dense](https://www.tensorflow.org/api_docs/python/tf/keras/layers/Dense)) layer: Apply a fully connected layer with 6 neurons and a softmax activation. "
   ]
  },
  {
   "cell_type": "code",
   "execution_count": 20,
   "metadata": {
    "deletable": false,
    "nbgrader": {
     "cell_type": "code",
     "checksum": "f58643806aa8380c96225fc8b4c5e7aa",
     "grade": false,
     "grade_id": "cell-dac51744a9e03f51",
     "locked": false,
     "schema_version": 3,
     "solution": true,
     "task": false
    }
   },
   "outputs": [],
   "source": [
    "# GRADED FUNCTION: convolutional_model\n",
    "def convolutional_model(input_shape):\n",
    "    \"\"\"\n",
    "    Implements the forward propagation for the model:\n",
    "    CONV2D -> RELU -> MAXPOOL -> CONV2D -> RELU -> MAXPOOL -> FLATTEN -> DENSE\n",
    "\n",
    "    Note that for simplicity and grading purposes, you'll hard-code some values\n",
    "    such as the stride and kernel (filter) sizes. \n",
    "    Normally, functions should take these values as function parameters.\n",
    "\n",
    "    Arguments:\n",
    "    input_img -- input dataset, of shape (input_shape)\n",
    "\n",
    "    Returns:\n",
    "    model -- TF Keras model (object containing the information for the entire training process) \n",
    "    \"\"\"\n",
    "\n",
    "    input_img = tf.keras.Input(shape=input_shape)\n",
    "    # CONV2D: 8 filters 4x4, stride of 1, padding 'SAME'\n",
    "    # Z1 = None\n",
    "    # RELU\n",
    "    # A1 = None\n",
    "    # MAXPOOL: window 8x8, stride 8, padding 'SAME'\n",
    "    # P1 = None\n",
    "    # CONV2D: 16 filters 2x2, stride 1, padding 'SAME'\n",
    "    # Z2 = None\n",
    "    # RELU\n",
    "    # A2 = None\n",
    "    # MAXPOOL: window 4x4, stride 4, padding 'SAME'\n",
    "    # P2 = None\n",
    "    # FLATTEN\n",
    "    # F = None\n",
    "    # Dense layer\n",
    "    # 6 neurons in output layer. Hint: one of the arguments should be \"activation='softmax'\"\n",
    "    # outputs = None\n",
    "    # YOUR CODE STARTS HERE\n",
    "    Z1 = tf.keras.layers.Conv2D(filters = 8 , kernel_size= (4,4), strides = (1,1), padding='same')(input_img)\n",
    "    A1 = tf.keras.layers.ReLU()(Z1)\n",
    "    P1 = tf.keras.layers.MaxPool2D(pool_size=(8,8), strides=(8, 8), padding='same')(A1)\n",
    "    Z2 = tf.keras.layers.Conv2D(filters = 16 , kernel_size= (2,2), strides = (1,1), padding='same')(P1)\n",
    "    A2 = tf.keras.layers.ReLU()(Z2)\n",
    "    P2 = tf.keras.layers.MaxPool2D(pool_size=(4,4), strides=(4, 4), padding='same')(A2)\n",
    "    F = tf.keras.layers.Flatten()(P2)\n",
    "    outputs = tf.keras.layers.Dense(units=6, activation='softmax')(F)\n",
    "    # YOUR CODE ENDS HERE\n",
    "    model = tf.keras.Model(inputs=input_img, outputs=outputs)\n",
    "    return model"
   ]
  },
  {
   "cell_type": "code",
   "execution_count": 21,
   "metadata": {
    "deletable": false,
    "editable": false,
    "nbgrader": {
     "cell_type": "code",
     "checksum": "483d626949930a0b0ef20997e7c6ba72",
     "grade": true,
     "grade_id": "cell-45d22e92042174c9",
     "locked": true,
     "points": 10,
     "schema_version": 3,
     "solution": false,
     "task": false
    }
   },
   "outputs": [
    {
     "name": "stdout",
     "output_type": "stream",
     "text": [
      "Model: \"functional_1\"\n",
      "_________________________________________________________________\n",
      "Layer (type)                 Output Shape              Param #   \n",
      "=================================================================\n",
      "input_1 (InputLayer)         [(None, 64, 64, 3)]       0         \n",
      "_________________________________________________________________\n",
      "conv2d (Conv2D)              (None, 64, 64, 8)         392       \n",
      "_________________________________________________________________\n",
      "re_lu_1 (ReLU)               (None, 64, 64, 8)         0         \n",
      "_________________________________________________________________\n",
      "max_pooling2d (MaxPooling2D) (None, 8, 8, 8)           0         \n",
      "_________________________________________________________________\n",
      "conv2d_1 (Conv2D)            (None, 8, 8, 16)          528       \n",
      "_________________________________________________________________\n",
      "re_lu_2 (ReLU)               (None, 8, 8, 16)          0         \n",
      "_________________________________________________________________\n",
      "max_pooling2d_1 (MaxPooling2 (None, 2, 2, 16)          0         \n",
      "_________________________________________________________________\n",
      "flatten_1 (Flatten)          (None, 64)                0         \n",
      "_________________________________________________________________\n",
      "dense (Dense)                (None, 6)                 390       \n",
      "=================================================================\n",
      "Total params: 1,310\n",
      "Trainable params: 1,310\n",
      "Non-trainable params: 0\n",
      "_________________________________________________________________\n",
      "\u001b[32mAll tests passed!\u001b[0m\n"
     ]
    }
   ],
   "source": [
    "conv_model = convolutional_model((64, 64, 3))\n",
    "conv_model.compile(optimizer='adam',\n",
    "                   loss='categorical_crossentropy',\n",
    "                   metrics=['accuracy'])\n",
    "conv_model.summary()\n",
    "\n",
    "output = [['InputLayer', [(None, 64, 64, 3)], 0],\n",
    "          ['Conv2D', (None, 64, 64, 8), 392, 'same',\n",
    "           'linear', 'GlorotUniform'],\n",
    "          ['ReLU', (None, 64, 64, 8), 0],\n",
    "          ['MaxPooling2D', (None, 8, 8, 8), 0, (8, 8), (8, 8), 'same'],\n",
    "          ['Conv2D', (None, 8, 8, 16), 528, 'same', 'linear', 'GlorotUniform'],\n",
    "          ['ReLU', (None, 8, 8, 16), 0],\n",
    "          ['MaxPooling2D', (None, 2, 2, 16), 0, (4, 4), (4, 4), 'same'],\n",
    "          ['Flatten', (None, 64), 0],\n",
    "          ['Dense', (None, 6), 390, 'softmax']]\n",
    "\n",
    "comparator(summary(conv_model), output)"
   ]
  },
  {
   "cell_type": "markdown",
   "metadata": {},
   "source": [
    "Both the Sequential and Functional APIs return a TF Keras model object. The only difference is how inputs are handled inside the object model! "
   ]
  },
  {
   "cell_type": "markdown",
   "metadata": {},
   "source": [
    "<a name='4-4'></a>\n",
    "### 4.4 - Train the Model"
   ]
  },
  {
   "cell_type": "code",
   "execution_count": 22,
   "metadata": {},
   "outputs": [
    {
     "name": "stdout",
     "output_type": "stream",
     "text": [
      "Epoch 1/100\n",
      "17/17 [==============================] - 1s 50ms/step - loss: 1.8063 - accuracy: 0.1630 - val_loss: 1.7837 - val_accuracy: 0.1583\n",
      "Epoch 2/100\n",
      "17/17 [==============================] - 1s 44ms/step - loss: 1.7825 - accuracy: 0.1713 - val_loss: 1.7749 - val_accuracy: 0.2667\n",
      "Epoch 3/100\n",
      "17/17 [==============================] - 1s 42ms/step - loss: 1.7755 - accuracy: 0.2472 - val_loss: 1.7691 - val_accuracy: 0.3750\n",
      "Epoch 4/100\n",
      "17/17 [==============================] - 1s 43ms/step - loss: 1.7696 - accuracy: 0.3306 - val_loss: 1.7613 - val_accuracy: 0.4333\n",
      "Epoch 5/100\n",
      "17/17 [==============================] - 1s 42ms/step - loss: 1.7618 - accuracy: 0.3944 - val_loss: 1.7503 - val_accuracy: 0.4500\n",
      "Epoch 6/100\n",
      "17/17 [==============================] - 1s 44ms/step - loss: 1.7504 - accuracy: 0.4250 - val_loss: 1.7364 - val_accuracy: 0.4917\n",
      "Epoch 7/100\n",
      "17/17 [==============================] - 1s 43ms/step - loss: 1.7372 - accuracy: 0.4398 - val_loss: 1.7213 - val_accuracy: 0.5333\n",
      "Epoch 8/100\n",
      "17/17 [==============================] - 1s 43ms/step - loss: 1.7212 - accuracy: 0.4426 - val_loss: 1.7048 - val_accuracy: 0.5250\n",
      "Epoch 9/100\n",
      "17/17 [==============================] - 1s 43ms/step - loss: 1.7032 - accuracy: 0.4556 - val_loss: 1.6830 - val_accuracy: 0.5667\n",
      "Epoch 10/100\n",
      "17/17 [==============================] - 1s 44ms/step - loss: 1.6806 - accuracy: 0.4750 - val_loss: 1.6600 - val_accuracy: 0.5750\n",
      "Epoch 11/100\n",
      "17/17 [==============================] - 1s 44ms/step - loss: 1.6551 - accuracy: 0.4704 - val_loss: 1.6354 - val_accuracy: 0.5583\n",
      "Epoch 12/100\n",
      "17/17 [==============================] - 1s 41ms/step - loss: 1.6262 - accuracy: 0.4731 - val_loss: 1.6059 - val_accuracy: 0.5417\n",
      "Epoch 13/100\n",
      "17/17 [==============================] - 1s 42ms/step - loss: 1.5943 - accuracy: 0.4870 - val_loss: 1.5751 - val_accuracy: 0.5417\n",
      "Epoch 14/100\n",
      "17/17 [==============================] - 1s 42ms/step - loss: 1.5590 - accuracy: 0.4963 - val_loss: 1.5406 - val_accuracy: 0.5667\n",
      "Epoch 15/100\n",
      "17/17 [==============================] - 1s 43ms/step - loss: 1.5214 - accuracy: 0.5102 - val_loss: 1.5014 - val_accuracy: 0.5583\n",
      "Epoch 16/100\n",
      "17/17 [==============================] - 1s 42ms/step - loss: 1.4819 - accuracy: 0.5241 - val_loss: 1.4640 - val_accuracy: 0.5667\n",
      "Epoch 17/100\n",
      "17/17 [==============================] - 1s 42ms/step - loss: 1.4406 - accuracy: 0.5454 - val_loss: 1.4208 - val_accuracy: 0.5833\n",
      "Epoch 18/100\n",
      "17/17 [==============================] - 1s 41ms/step - loss: 1.3992 - accuracy: 0.5639 - val_loss: 1.3799 - val_accuracy: 0.6083\n",
      "Epoch 19/100\n",
      "17/17 [==============================] - 1s 42ms/step - loss: 1.3584 - accuracy: 0.5713 - val_loss: 1.3379 - val_accuracy: 0.6000\n",
      "Epoch 20/100\n",
      "17/17 [==============================] - 1s 41ms/step - loss: 1.3179 - accuracy: 0.5861 - val_loss: 1.2976 - val_accuracy: 0.6250\n",
      "Epoch 21/100\n",
      "17/17 [==============================] - 1s 44ms/step - loss: 1.2783 - accuracy: 0.5926 - val_loss: 1.2587 - val_accuracy: 0.6083\n",
      "Epoch 22/100\n",
      "17/17 [==============================] - 1s 43ms/step - loss: 1.2398 - accuracy: 0.6093 - val_loss: 1.2211 - val_accuracy: 0.6083\n",
      "Epoch 23/100\n",
      "17/17 [==============================] - 1s 43ms/step - loss: 1.2025 - accuracy: 0.6296 - val_loss: 1.1861 - val_accuracy: 0.6167\n",
      "Epoch 24/100\n",
      "17/17 [==============================] - 1s 42ms/step - loss: 1.1674 - accuracy: 0.6361 - val_loss: 1.1508 - val_accuracy: 0.6250\n",
      "Epoch 25/100\n",
      "17/17 [==============================] - 1s 41ms/step - loss: 1.1332 - accuracy: 0.6491 - val_loss: 1.1187 - val_accuracy: 0.6250\n",
      "Epoch 26/100\n",
      "17/17 [==============================] - 1s 43ms/step - loss: 1.1009 - accuracy: 0.6546 - val_loss: 1.0878 - val_accuracy: 0.6250\n",
      "Epoch 27/100\n",
      "17/17 [==============================] - 1s 44ms/step - loss: 1.0697 - accuracy: 0.6574 - val_loss: 1.0586 - val_accuracy: 0.6417\n",
      "Epoch 28/100\n",
      "17/17 [==============================] - 1s 44ms/step - loss: 1.0402 - accuracy: 0.6676 - val_loss: 1.0326 - val_accuracy: 0.6417\n",
      "Epoch 29/100\n",
      "17/17 [==============================] - 1s 47ms/step - loss: 1.0129 - accuracy: 0.6750 - val_loss: 1.0081 - val_accuracy: 0.6583\n",
      "Epoch 30/100\n",
      "17/17 [==============================] - 1s 44ms/step - loss: 0.9868 - accuracy: 0.6833 - val_loss: 0.9851 - val_accuracy: 0.6500\n",
      "Epoch 31/100\n",
      "17/17 [==============================] - 1s 43ms/step - loss: 0.9621 - accuracy: 0.6926 - val_loss: 0.9631 - val_accuracy: 0.6583\n",
      "Epoch 32/100\n",
      "17/17 [==============================] - 1s 44ms/step - loss: 0.9390 - accuracy: 0.6963 - val_loss: 0.9434 - val_accuracy: 0.6667\n",
      "Epoch 33/100\n",
      "17/17 [==============================] - 1s 45ms/step - loss: 0.9163 - accuracy: 0.7102 - val_loss: 0.9210 - val_accuracy: 0.6750\n",
      "Epoch 34/100\n",
      "17/17 [==============================] - 1s 43ms/step - loss: 0.8945 - accuracy: 0.7241 - val_loss: 0.9013 - val_accuracy: 0.6833\n",
      "Epoch 35/100\n",
      "17/17 [==============================] - 1s 44ms/step - loss: 0.8734 - accuracy: 0.7343 - val_loss: 0.8822 - val_accuracy: 0.6750\n",
      "Epoch 36/100\n",
      "17/17 [==============================] - 1s 44ms/step - loss: 0.8540 - accuracy: 0.7463 - val_loss: 0.8641 - val_accuracy: 0.6917\n",
      "Epoch 37/100\n",
      "17/17 [==============================] - 1s 45ms/step - loss: 0.8351 - accuracy: 0.7481 - val_loss: 0.8456 - val_accuracy: 0.6833\n",
      "Epoch 38/100\n",
      "17/17 [==============================] - 1s 46ms/step - loss: 0.8164 - accuracy: 0.7537 - val_loss: 0.8294 - val_accuracy: 0.7000\n",
      "Epoch 39/100\n",
      "17/17 [==============================] - 1s 52ms/step - loss: 0.7996 - accuracy: 0.7556 - val_loss: 0.8141 - val_accuracy: 0.7083\n",
      "Epoch 40/100\n",
      "17/17 [==============================] - 1s 61ms/step - loss: 0.7828 - accuracy: 0.7565 - val_loss: 0.7989 - val_accuracy: 0.7417\n",
      "Epoch 41/100\n",
      "17/17 [==============================] - 1s 51ms/step - loss: 0.7672 - accuracy: 0.7583 - val_loss: 0.7850 - val_accuracy: 0.7583\n",
      "Epoch 42/100\n",
      "17/17 [==============================] - 1s 51ms/step - loss: 0.7527 - accuracy: 0.7620 - val_loss: 0.7724 - val_accuracy: 0.7667\n",
      "Epoch 43/100\n",
      "17/17 [==============================] - 1s 45ms/step - loss: 0.7391 - accuracy: 0.7676 - val_loss: 0.7610 - val_accuracy: 0.7667\n",
      "Epoch 44/100\n",
      "17/17 [==============================] - 1s 45ms/step - loss: 0.7264 - accuracy: 0.7759 - val_loss: 0.7495 - val_accuracy: 0.7667\n",
      "Epoch 45/100\n",
      "17/17 [==============================] - 1s 42ms/step - loss: 0.7141 - accuracy: 0.7806 - val_loss: 0.7390 - val_accuracy: 0.7667\n",
      "Epoch 46/100\n",
      "17/17 [==============================] - 1s 43ms/step - loss: 0.7024 - accuracy: 0.7806 - val_loss: 0.7289 - val_accuracy: 0.7750\n",
      "Epoch 47/100\n",
      "17/17 [==============================] - 1s 43ms/step - loss: 0.6910 - accuracy: 0.7843 - val_loss: 0.7191 - val_accuracy: 0.7833\n",
      "Epoch 48/100\n",
      "17/17 [==============================] - 1s 46ms/step - loss: 0.6801 - accuracy: 0.7889 - val_loss: 0.7101 - val_accuracy: 0.7833\n",
      "Epoch 49/100\n",
      "17/17 [==============================] - 1s 44ms/step - loss: 0.6697 - accuracy: 0.7935 - val_loss: 0.7014 - val_accuracy: 0.7833\n",
      "Epoch 50/100\n",
      "17/17 [==============================] - 1s 44ms/step - loss: 0.6596 - accuracy: 0.7963 - val_loss: 0.6929 - val_accuracy: 0.7833\n",
      "Epoch 51/100\n",
      "17/17 [==============================] - 1s 43ms/step - loss: 0.6500 - accuracy: 0.7991 - val_loss: 0.6851 - val_accuracy: 0.7833\n",
      "Epoch 52/100\n",
      "17/17 [==============================] - 1s 42ms/step - loss: 0.6406 - accuracy: 0.8028 - val_loss: 0.6773 - val_accuracy: 0.7833\n",
      "Epoch 53/100\n",
      "17/17 [==============================] - 1s 45ms/step - loss: 0.6314 - accuracy: 0.8028 - val_loss: 0.6696 - val_accuracy: 0.7833\n",
      "Epoch 54/100\n",
      "17/17 [==============================] - 1s 44ms/step - loss: 0.6224 - accuracy: 0.8037 - val_loss: 0.6625 - val_accuracy: 0.7833\n",
      "Epoch 55/100\n",
      "17/17 [==============================] - 1s 42ms/step - loss: 0.6137 - accuracy: 0.8056 - val_loss: 0.6560 - val_accuracy: 0.7833\n",
      "Epoch 56/100\n",
      "17/17 [==============================] - 1s 42ms/step - loss: 0.6054 - accuracy: 0.8093 - val_loss: 0.6498 - val_accuracy: 0.7917\n",
      "Epoch 57/100\n",
      "17/17 [==============================] - 1s 43ms/step - loss: 0.5974 - accuracy: 0.8120 - val_loss: 0.6436 - val_accuracy: 0.8000\n",
      "Epoch 58/100\n",
      "17/17 [==============================] - 1s 42ms/step - loss: 0.5896 - accuracy: 0.8139 - val_loss: 0.6374 - val_accuracy: 0.8000\n",
      "Epoch 59/100\n",
      "17/17 [==============================] - 1s 44ms/step - loss: 0.5821 - accuracy: 0.8148 - val_loss: 0.6321 - val_accuracy: 0.8000\n",
      "Epoch 60/100\n",
      "17/17 [==============================] - 1s 45ms/step - loss: 0.5748 - accuracy: 0.8194 - val_loss: 0.6269 - val_accuracy: 0.8000\n",
      "Epoch 61/100\n",
      "17/17 [==============================] - 1s 43ms/step - loss: 0.5678 - accuracy: 0.8222 - val_loss: 0.6221 - val_accuracy: 0.7917\n",
      "Epoch 62/100\n",
      "17/17 [==============================] - 1s 44ms/step - loss: 0.5609 - accuracy: 0.8269 - val_loss: 0.6171 - val_accuracy: 0.7917\n",
      "Epoch 63/100\n",
      "17/17 [==============================] - 1s 45ms/step - loss: 0.5539 - accuracy: 0.8306 - val_loss: 0.6120 - val_accuracy: 0.7833\n",
      "Epoch 64/100\n",
      "17/17 [==============================] - 1s 46ms/step - loss: 0.5477 - accuracy: 0.8324 - val_loss: 0.6072 - val_accuracy: 0.7833\n",
      "Epoch 65/100\n",
      "17/17 [==============================] - 1s 45ms/step - loss: 0.5414 - accuracy: 0.8333 - val_loss: 0.6027 - val_accuracy: 0.7833\n",
      "Epoch 66/100\n",
      "17/17 [==============================] - 1s 45ms/step - loss: 0.5353 - accuracy: 0.8389 - val_loss: 0.5986 - val_accuracy: 0.7833\n",
      "Epoch 67/100\n",
      "17/17 [==============================] - 1s 46ms/step - loss: 0.5288 - accuracy: 0.8417 - val_loss: 0.5940 - val_accuracy: 0.7833\n",
      "Epoch 68/100\n",
      "17/17 [==============================] - 1s 43ms/step - loss: 0.5229 - accuracy: 0.8426 - val_loss: 0.5902 - val_accuracy: 0.7917\n",
      "Epoch 69/100\n",
      "17/17 [==============================] - 1s 52ms/step - loss: 0.5174 - accuracy: 0.8435 - val_loss: 0.5870 - val_accuracy: 0.7917\n",
      "Epoch 70/100\n",
      "17/17 [==============================] - 1s 48ms/step - loss: 0.5118 - accuracy: 0.8463 - val_loss: 0.5827 - val_accuracy: 0.8000\n",
      "Epoch 71/100\n",
      "17/17 [==============================] - 1s 48ms/step - loss: 0.5063 - accuracy: 0.8454 - val_loss: 0.5783 - val_accuracy: 0.8000\n",
      "Epoch 72/100\n",
      "17/17 [==============================] - 1s 45ms/step - loss: 0.5011 - accuracy: 0.8472 - val_loss: 0.5745 - val_accuracy: 0.8083\n",
      "Epoch 73/100\n",
      "17/17 [==============================] - 1s 47ms/step - loss: 0.4966 - accuracy: 0.8454 - val_loss: 0.5707 - val_accuracy: 0.8083\n",
      "Epoch 74/100\n",
      "17/17 [==============================] - 1s 48ms/step - loss: 0.4917 - accuracy: 0.8481 - val_loss: 0.5671 - val_accuracy: 0.8083\n",
      "Epoch 75/100\n",
      "17/17 [==============================] - 1s 49ms/step - loss: 0.4866 - accuracy: 0.8491 - val_loss: 0.5628 - val_accuracy: 0.8083\n",
      "Epoch 76/100\n",
      "17/17 [==============================] - 1s 46ms/step - loss: 0.4819 - accuracy: 0.8491 - val_loss: 0.5592 - val_accuracy: 0.8083\n",
      "Epoch 77/100\n",
      "17/17 [==============================] - 1s 46ms/step - loss: 0.4777 - accuracy: 0.8491 - val_loss: 0.5556 - val_accuracy: 0.8083\n",
      "Epoch 78/100\n",
      "17/17 [==============================] - 1s 47ms/step - loss: 0.4732 - accuracy: 0.8500 - val_loss: 0.5524 - val_accuracy: 0.8083\n",
      "Epoch 79/100\n",
      "17/17 [==============================] - 1s 47ms/step - loss: 0.4686 - accuracy: 0.8528 - val_loss: 0.5488 - val_accuracy: 0.8083\n",
      "Epoch 80/100\n",
      "17/17 [==============================] - 1s 48ms/step - loss: 0.4646 - accuracy: 0.8546 - val_loss: 0.5466 - val_accuracy: 0.8083\n",
      "Epoch 81/100\n",
      "17/17 [==============================] - 1s 47ms/step - loss: 0.4607 - accuracy: 0.8565 - val_loss: 0.5442 - val_accuracy: 0.8083\n",
      "Epoch 82/100\n",
      "17/17 [==============================] - 1s 58ms/step - loss: 0.4569 - accuracy: 0.8593 - val_loss: 0.5417 - val_accuracy: 0.8083\n",
      "Epoch 83/100\n",
      "17/17 [==============================] - 1s 48ms/step - loss: 0.4531 - accuracy: 0.8611 - val_loss: 0.5386 - val_accuracy: 0.8083\n",
      "Epoch 84/100\n",
      "17/17 [==============================] - 1s 48ms/step - loss: 0.4492 - accuracy: 0.8648 - val_loss: 0.5355 - val_accuracy: 0.8167\n",
      "Epoch 85/100\n",
      "17/17 [==============================] - 1s 50ms/step - loss: 0.4456 - accuracy: 0.8639 - val_loss: 0.5331 - val_accuracy: 0.8167\n",
      "Epoch 86/100\n",
      "17/17 [==============================] - 1s 46ms/step - loss: 0.4419 - accuracy: 0.8657 - val_loss: 0.5307 - val_accuracy: 0.8167\n",
      "Epoch 87/100\n",
      "17/17 [==============================] - 1s 48ms/step - loss: 0.4383 - accuracy: 0.8667 - val_loss: 0.5281 - val_accuracy: 0.8167\n",
      "Epoch 88/100\n",
      "17/17 [==============================] - 1s 46ms/step - loss: 0.4348 - accuracy: 0.8657 - val_loss: 0.5261 - val_accuracy: 0.8167\n",
      "Epoch 89/100\n",
      "17/17 [==============================] - 1s 46ms/step - loss: 0.4313 - accuracy: 0.8657 - val_loss: 0.5233 - val_accuracy: 0.8167\n",
      "Epoch 90/100\n",
      "17/17 [==============================] - 1s 47ms/step - loss: 0.4280 - accuracy: 0.8667 - val_loss: 0.5210 - val_accuracy: 0.8167\n",
      "Epoch 91/100\n",
      "17/17 [==============================] - 1s 59ms/step - loss: 0.4246 - accuracy: 0.8704 - val_loss: 0.5188 - val_accuracy: 0.8250\n",
      "Epoch 92/100\n",
      "17/17 [==============================] - 1s 55ms/step - loss: 0.4214 - accuracy: 0.8704 - val_loss: 0.5165 - val_accuracy: 0.8250\n",
      "Epoch 93/100\n",
      "17/17 [==============================] - 1s 49ms/step - loss: 0.4181 - accuracy: 0.8704 - val_loss: 0.5142 - val_accuracy: 0.8250\n",
      "Epoch 94/100\n",
      "17/17 [==============================] - 1s 49ms/step - loss: 0.4146 - accuracy: 0.8713 - val_loss: 0.5122 - val_accuracy: 0.8250\n",
      "Epoch 95/100\n",
      "17/17 [==============================] - 1s 47ms/step - loss: 0.4112 - accuracy: 0.8713 - val_loss: 0.5100 - val_accuracy: 0.8333\n",
      "Epoch 96/100\n",
      "17/17 [==============================] - 1s 47ms/step - loss: 0.4081 - accuracy: 0.8713 - val_loss: 0.5075 - val_accuracy: 0.8417\n",
      "Epoch 97/100\n",
      "17/17 [==============================] - 1s 48ms/step - loss: 0.4048 - accuracy: 0.8713 - val_loss: 0.5056 - val_accuracy: 0.8500\n",
      "Epoch 98/100\n",
      "17/17 [==============================] - 1s 46ms/step - loss: 0.4020 - accuracy: 0.8731 - val_loss: 0.5043 - val_accuracy: 0.8417\n",
      "Epoch 99/100\n",
      "17/17 [==============================] - 1s 47ms/step - loss: 0.3986 - accuracy: 0.8731 - val_loss: 0.5013 - val_accuracy: 0.8500\n",
      "Epoch 100/100\n",
      "17/17 [==============================] - 1s 50ms/step - loss: 0.3956 - accuracy: 0.8741 - val_loss: 0.4997 - val_accuracy: 0.8500\n"
     ]
    }
   ],
   "source": [
    "train_dataset = tf.data.Dataset.from_tensor_slices(\n",
    "    (X_train, Y_train)).batch(64)\n",
    "test_dataset = tf.data.Dataset.from_tensor_slices((X_test, Y_test)).batch(64)\n",
    "history = conv_model.fit(train_dataset, epochs=100,\n",
    "                         validation_data=test_dataset)"
   ]
  },
  {
   "cell_type": "markdown",
   "metadata": {},
   "source": [
    "<a name='5'></a>\n",
    "## 5 - History Object \n",
    "\n",
    "The history object is an output of the `.fit()` operation, and provides a record of all the loss and metric values in memory. It's stored as a dictionary that you can retrieve at `history.history`: "
   ]
  },
  {
   "cell_type": "code",
   "execution_count": 23,
   "metadata": {},
   "outputs": [
    {
     "data": {
      "text/plain": [
       "{'loss': [1.806289792060852,\n",
       "  1.7824889421463013,\n",
       "  1.7754548788070679,\n",
       "  1.7696348428726196,\n",
       "  1.7617578506469727,\n",
       "  1.7503747940063477,\n",
       "  1.7371923923492432,\n",
       "  1.7211772203445435,\n",
       "  1.7032415866851807,\n",
       "  1.6806378364562988,\n",
       "  1.655130386352539,\n",
       "  1.626235842704773,\n",
       "  1.5943470001220703,\n",
       "  1.5590351819992065,\n",
       "  1.521382212638855,\n",
       "  1.481855869293213,\n",
       "  1.4406335353851318,\n",
       "  1.3991628885269165,\n",
       "  1.358376145362854,\n",
       "  1.3178927898406982,\n",
       "  1.2783232927322388,\n",
       "  1.2397793531417847,\n",
       "  1.2024848461151123,\n",
       "  1.1674126386642456,\n",
       "  1.133180022239685,\n",
       "  1.1008660793304443,\n",
       "  1.0697332620620728,\n",
       "  1.0402432680130005,\n",
       "  1.0128780603408813,\n",
       "  0.9868136644363403,\n",
       "  0.9621298313140869,\n",
       "  0.9389930963516235,\n",
       "  0.9162701368331909,\n",
       "  0.8945151567459106,\n",
       "  0.8734248876571655,\n",
       "  0.8539608120918274,\n",
       "  0.8350744247436523,\n",
       "  0.8163669109344482,\n",
       "  0.7995679974555969,\n",
       "  0.7827555537223816,\n",
       "  0.7671719193458557,\n",
       "  0.7526974678039551,\n",
       "  0.739112913608551,\n",
       "  0.7264392375946045,\n",
       "  0.7141141295433044,\n",
       "  0.7024469375610352,\n",
       "  0.6910449862480164,\n",
       "  0.6800644993782043,\n",
       "  0.6697044372558594,\n",
       "  0.6595573425292969,\n",
       "  0.6499758362770081,\n",
       "  0.6406113505363464,\n",
       "  0.6313578486442566,\n",
       "  0.6224228143692017,\n",
       "  0.6137347221374512,\n",
       "  0.6053820252418518,\n",
       "  0.5974482297897339,\n",
       "  0.5896443724632263,\n",
       "  0.5821279287338257,\n",
       "  0.5747893452644348,\n",
       "  0.5677616000175476,\n",
       "  0.5608975887298584,\n",
       "  0.5539265871047974,\n",
       "  0.5477189421653748,\n",
       "  0.5414150953292847,\n",
       "  0.5352542996406555,\n",
       "  0.5288002490997314,\n",
       "  0.5229213237762451,\n",
       "  0.5174288749694824,\n",
       "  0.5118021368980408,\n",
       "  0.5062530636787415,\n",
       "  0.5011223554611206,\n",
       "  0.4965665340423584,\n",
       "  0.49173566699028015,\n",
       "  0.48661595582962036,\n",
       "  0.481853187084198,\n",
       "  0.4776540696620941,\n",
       "  0.4732135236263275,\n",
       "  0.4685736298561096,\n",
       "  0.46463996171951294,\n",
       "  0.4607486128807068,\n",
       "  0.4568953216075897,\n",
       "  0.45309558510780334,\n",
       "  0.4491581320762634,\n",
       "  0.4455578625202179,\n",
       "  0.4419020414352417,\n",
       "  0.43830499053001404,\n",
       "  0.43475577235221863,\n",
       "  0.4312686026096344,\n",
       "  0.42797529697418213,\n",
       "  0.42457208037376404,\n",
       "  0.42143192887306213,\n",
       "  0.41807907819747925,\n",
       "  0.4145578145980835,\n",
       "  0.4112164080142975,\n",
       "  0.40810054540634155,\n",
       "  0.4048147201538086,\n",
       "  0.4020118713378906,\n",
       "  0.3986392319202423,\n",
       "  0.3956165313720703],\n",
       " 'accuracy': [0.16296295821666718,\n",
       "  0.17129629850387573,\n",
       "  0.24722221493721008,\n",
       "  0.3305555582046509,\n",
       "  0.39444443583488464,\n",
       "  0.42500001192092896,\n",
       "  0.43981480598449707,\n",
       "  0.442592591047287,\n",
       "  0.4555555582046509,\n",
       "  0.4749999940395355,\n",
       "  0.4703703820705414,\n",
       "  0.4731481373310089,\n",
       "  0.4870370328426361,\n",
       "  0.4962962865829468,\n",
       "  0.510185182094574,\n",
       "  0.5240740776062012,\n",
       "  0.5453703999519348,\n",
       "  0.5638889074325562,\n",
       "  0.5712962746620178,\n",
       "  0.5861111283302307,\n",
       "  0.5925925970077515,\n",
       "  0.6092592477798462,\n",
       "  0.6296296119689941,\n",
       "  0.6361111402511597,\n",
       "  0.6490740776062012,\n",
       "  0.654629647731781,\n",
       "  0.6574074029922485,\n",
       "  0.6675925850868225,\n",
       "  0.675000011920929,\n",
       "  0.6833333373069763,\n",
       "  0.6925926208496094,\n",
       "  0.6962962746620178,\n",
       "  0.710185170173645,\n",
       "  0.7240740656852722,\n",
       "  0.7342592477798462,\n",
       "  0.7462962865829468,\n",
       "  0.7481481432914734,\n",
       "  0.7537037134170532,\n",
       "  0.7555555701255798,\n",
       "  0.7564814686775208,\n",
       "  0.7583333253860474,\n",
       "  0.7620370388031006,\n",
       "  0.7675926089286804,\n",
       "  0.7759259343147278,\n",
       "  0.7805555462837219,\n",
       "  0.7805555462837219,\n",
       "  0.7842592597007751,\n",
       "  0.7888888716697693,\n",
       "  0.7935185432434082,\n",
       "  0.7962962985038757,\n",
       "  0.7990740537643433,\n",
       "  0.8027777671813965,\n",
       "  0.8027777671813965,\n",
       "  0.8037037253379822,\n",
       "  0.8055555820465088,\n",
       "  0.8092592358589172,\n",
       "  0.8120370507240295,\n",
       "  0.8138889074325562,\n",
       "  0.8148148059844971,\n",
       "  0.8194444179534912,\n",
       "  0.8222222328186035,\n",
       "  0.8268518447875977,\n",
       "  0.8305555582046509,\n",
       "  0.8324074149131775,\n",
       "  0.8333333134651184,\n",
       "  0.8388888835906982,\n",
       "  0.8416666388511658,\n",
       "  0.8425925970077515,\n",
       "  0.8435184955596924,\n",
       "  0.8462963104248047,\n",
       "  0.845370352268219,\n",
       "  0.8472222089767456,\n",
       "  0.845370352268219,\n",
       "  0.8481481671333313,\n",
       "  0.8490740656852722,\n",
       "  0.8490740656852722,\n",
       "  0.8490740656852722,\n",
       "  0.8500000238418579,\n",
       "  0.8527777791023254,\n",
       "  0.854629635810852,\n",
       "  0.8564814925193787,\n",
       "  0.8592592477798462,\n",
       "  0.8611111044883728,\n",
       "  0.864814817905426,\n",
       "  0.8638888597488403,\n",
       "  0.8657407164573669,\n",
       "  0.8666666746139526,\n",
       "  0.8657407164573669,\n",
       "  0.8657407164573669,\n",
       "  0.8666666746139526,\n",
       "  0.8703703880310059,\n",
       "  0.8703703880310059,\n",
       "  0.8703703880310059,\n",
       "  0.8712962865829468,\n",
       "  0.8712962865829468,\n",
       "  0.8712962865829468,\n",
       "  0.8712962865829468,\n",
       "  0.8731481432914734,\n",
       "  0.8731481432914734,\n",
       "  0.8740741014480591],\n",
       " 'val_loss': [1.783740758895874,\n",
       "  1.7748852968215942,\n",
       "  1.769116759300232,\n",
       "  1.7613154649734497,\n",
       "  1.7502797842025757,\n",
       "  1.7363970279693604,\n",
       "  1.7213438749313354,\n",
       "  1.7047924995422363,\n",
       "  1.6830013990402222,\n",
       "  1.660003900527954,\n",
       "  1.635376214981079,\n",
       "  1.6059441566467285,\n",
       "  1.5750643014907837,\n",
       "  1.540631651878357,\n",
       "  1.5013539791107178,\n",
       "  1.4639767408370972,\n",
       "  1.4208046197891235,\n",
       "  1.379870891571045,\n",
       "  1.33791983127594,\n",
       "  1.297558307647705,\n",
       "  1.2586568593978882,\n",
       "  1.221142292022705,\n",
       "  1.1860909461975098,\n",
       "  1.1508458852767944,\n",
       "  1.1186760663986206,\n",
       "  1.0877665281295776,\n",
       "  1.0585696697235107,\n",
       "  1.032591462135315,\n",
       "  1.0081480741500854,\n",
       "  0.9851190447807312,\n",
       "  0.9630969762802124,\n",
       "  0.9434031248092651,\n",
       "  0.9210078716278076,\n",
       "  0.9012859463691711,\n",
       "  0.8821871876716614,\n",
       "  0.8640642762184143,\n",
       "  0.845617949962616,\n",
       "  0.8293939232826233,\n",
       "  0.8140506744384766,\n",
       "  0.7988626956939697,\n",
       "  0.7850428223609924,\n",
       "  0.7723562717437744,\n",
       "  0.7609630227088928,\n",
       "  0.7495120763778687,\n",
       "  0.7389930486679077,\n",
       "  0.728878915309906,\n",
       "  0.7191144227981567,\n",
       "  0.7101392149925232,\n",
       "  0.7014247179031372,\n",
       "  0.692919135093689,\n",
       "  0.685076892375946,\n",
       "  0.6773316860198975,\n",
       "  0.6695995330810547,\n",
       "  0.6625170111656189,\n",
       "  0.655988335609436,\n",
       "  0.649836003780365,\n",
       "  0.6436468362808228,\n",
       "  0.6373583078384399,\n",
       "  0.6320797204971313,\n",
       "  0.626919150352478,\n",
       "  0.622115969657898,\n",
       "  0.6171491146087646,\n",
       "  0.6120157837867737,\n",
       "  0.6072256565093994,\n",
       "  0.6027194857597351,\n",
       "  0.5986328125,\n",
       "  0.5940331816673279,\n",
       "  0.59022456407547,\n",
       "  0.5869722962379456,\n",
       "  0.5826910734176636,\n",
       "  0.5782968997955322,\n",
       "  0.5744646787643433,\n",
       "  0.5707197189331055,\n",
       "  0.5671032071113586,\n",
       "  0.562762439250946,\n",
       "  0.5591676831245422,\n",
       "  0.5555835962295532,\n",
       "  0.5524229407310486,\n",
       "  0.5488066077232361,\n",
       "  0.5465614795684814,\n",
       "  0.5442180633544922,\n",
       "  0.5417073369026184,\n",
       "  0.5385774970054626,\n",
       "  0.5354616641998291,\n",
       "  0.5331305265426636,\n",
       "  0.5307092070579529,\n",
       "  0.528138279914856,\n",
       "  0.5261241793632507,\n",
       "  0.5233497619628906,\n",
       "  0.5210330486297607,\n",
       "  0.5188270807266235,\n",
       "  0.5164982080459595,\n",
       "  0.514150083065033,\n",
       "  0.512194812297821,\n",
       "  0.5100269913673401,\n",
       "  0.5075367093086243,\n",
       "  0.5055675506591797,\n",
       "  0.5042864084243774,\n",
       "  0.5012720823287964,\n",
       "  0.4997231066226959],\n",
       " 'val_accuracy': [0.15833333134651184,\n",
       "  0.2666666805744171,\n",
       "  0.375,\n",
       "  0.4333333373069763,\n",
       "  0.44999998807907104,\n",
       "  0.49166667461395264,\n",
       "  0.5333333611488342,\n",
       "  0.5249999761581421,\n",
       "  0.5666666626930237,\n",
       "  0.574999988079071,\n",
       "  0.5583333373069763,\n",
       "  0.5416666865348816,\n",
       "  0.5416666865348816,\n",
       "  0.5666666626930237,\n",
       "  0.5583333373069763,\n",
       "  0.5666666626930237,\n",
       "  0.5833333134651184,\n",
       "  0.6083333492279053,\n",
       "  0.6000000238418579,\n",
       "  0.625,\n",
       "  0.6083333492279053,\n",
       "  0.6083333492279053,\n",
       "  0.6166666746139526,\n",
       "  0.625,\n",
       "  0.625,\n",
       "  0.625,\n",
       "  0.6416666507720947,\n",
       "  0.6416666507720947,\n",
       "  0.6583333611488342,\n",
       "  0.6499999761581421,\n",
       "  0.6583333611488342,\n",
       "  0.6666666865348816,\n",
       "  0.675000011920929,\n",
       "  0.6833333373069763,\n",
       "  0.675000011920929,\n",
       "  0.6916666626930237,\n",
       "  0.6833333373069763,\n",
       "  0.699999988079071,\n",
       "  0.7083333134651184,\n",
       "  0.7416666746139526,\n",
       "  0.7583333253860474,\n",
       "  0.7666666507720947,\n",
       "  0.7666666507720947,\n",
       "  0.7666666507720947,\n",
       "  0.7666666507720947,\n",
       "  0.7749999761581421,\n",
       "  0.7833333611488342,\n",
       "  0.7833333611488342,\n",
       "  0.7833333611488342,\n",
       "  0.7833333611488342,\n",
       "  0.7833333611488342,\n",
       "  0.7833333611488342,\n",
       "  0.7833333611488342,\n",
       "  0.7833333611488342,\n",
       "  0.7833333611488342,\n",
       "  0.7916666865348816,\n",
       "  0.800000011920929,\n",
       "  0.800000011920929,\n",
       "  0.800000011920929,\n",
       "  0.800000011920929,\n",
       "  0.7916666865348816,\n",
       "  0.7916666865348816,\n",
       "  0.7833333611488342,\n",
       "  0.7833333611488342,\n",
       "  0.7833333611488342,\n",
       "  0.7833333611488342,\n",
       "  0.7833333611488342,\n",
       "  0.7916666865348816,\n",
       "  0.7916666865348816,\n",
       "  0.800000011920929,\n",
       "  0.800000011920929,\n",
       "  0.8083333373069763,\n",
       "  0.8083333373069763,\n",
       "  0.8083333373069763,\n",
       "  0.8083333373069763,\n",
       "  0.8083333373069763,\n",
       "  0.8083333373069763,\n",
       "  0.8083333373069763,\n",
       "  0.8083333373069763,\n",
       "  0.8083333373069763,\n",
       "  0.8083333373069763,\n",
       "  0.8083333373069763,\n",
       "  0.8083333373069763,\n",
       "  0.8166666626930237,\n",
       "  0.8166666626930237,\n",
       "  0.8166666626930237,\n",
       "  0.8166666626930237,\n",
       "  0.8166666626930237,\n",
       "  0.8166666626930237,\n",
       "  0.8166666626930237,\n",
       "  0.824999988079071,\n",
       "  0.824999988079071,\n",
       "  0.824999988079071,\n",
       "  0.824999988079071,\n",
       "  0.8333333134651184,\n",
       "  0.8416666388511658,\n",
       "  0.8500000238418579,\n",
       "  0.8416666388511658,\n",
       "  0.8500000238418579,\n",
       "  0.8500000238418579]}"
      ]
     },
     "execution_count": 23,
     "metadata": {},
     "output_type": "execute_result"
    }
   ],
   "source": [
    "history.history"
   ]
  },
  {
   "cell_type": "markdown",
   "metadata": {},
   "source": [
    "Now visualize the loss over time using `history.history`: "
   ]
  },
  {
   "cell_type": "code",
   "execution_count": 24,
   "metadata": {},
   "outputs": [
    {
     "name": "stderr",
     "output_type": "stream",
     "text": [
      "C:\\Users\\zheng\\AppData\\Local\\Temp\\ipykernel_12004\\549027872.py:5: SettingWithCopyWarning: \n",
      "A value is trying to be set on a copy of a slice from a DataFrame\n",
      "\n",
      "See the caveats in the documentation: https://pandas.pydata.org/pandas-docs/stable/user_guide/indexing.html#returning-a-view-versus-a-copy\n",
      "  df_loss.rename(\n",
      "C:\\Users\\zheng\\AppData\\Local\\Temp\\ipykernel_12004\\549027872.py:8: SettingWithCopyWarning: \n",
      "A value is trying to be set on a copy of a slice from a DataFrame\n",
      "\n",
      "See the caveats in the documentation: https://pandas.pydata.org/pandas-docs/stable/user_guide/indexing.html#returning-a-view-versus-a-copy\n",
      "  df_acc.rename(columns={'accuracy': 'train',\n"
     ]
    },
    {
     "data": {
      "text/plain": [
       "[Text(0.5, 0, 'Epoch'), Text(0, 0.5, 'Accuracy')]"
      ]
     },
     "execution_count": 24,
     "metadata": {},
     "output_type": "execute_result"
    },
    {
     "data": {
      "image/png": "[encoded data removed]",
      "text/plain": [
       "<Figure size 864x576 with 1 Axes>"
      ]
     },
     "metadata": {
      "needs_background": "light"
     },
     "output_type": "display_data"
    },
    {
     "data": {
      "image/png": "[encoded data removed]",
      "text/plain": [
       "<Figure size 864x576 with 1 Axes>"
      ]
     },
     "metadata": {
      "needs_background": "light"
     },
     "output_type": "display_data"
    }
   ],
   "source": [
    "# The history.history[\"loss\"] entry is a dictionary with as many values as epochs that the\n",
    "# model was trained on.\n",
    "df_loss_acc = pd.DataFrame(history.history)\n",
    "df_loss = df_loss_acc[['loss', 'val_loss']]\n",
    "df_loss.rename(\n",
    "    columns={'loss': 'train', 'val_loss': 'validation'}, inplace=True)\n",
    "df_acc = df_loss_acc[['accuracy', 'val_accuracy']]\n",
    "df_acc.rename(columns={'accuracy': 'train',\n",
    "                       'val_accuracy': 'validation'}, inplace=True)\n",
    "df_loss.plot(title='Model loss', figsize=(12, 8)).set(\n",
    "    xlabel='Epoch', ylabel='Loss')\n",
    "df_acc.plot(title='Model Accuracy', figsize=(12, 8)).set(\n",
    "    xlabel='Epoch', ylabel='Accuracy')"
   ]
  },
  {
   "cell_type": "markdown",
   "metadata": {},
   "source": [
    "**Congratulations**! You've finished the assignment and built two models: One that recognizes  smiles, and another that recognizes SIGN language with almost 80% accuracy on the test set. In addition to that, you now also understand the applications of two Keras APIs: Sequential and Functional. Nicely done! \n",
    "\n",
    "By now, you know a bit about how the Functional API works and may have glimpsed the possibilities. In your next assignment, you'll really get a feel for its power when you get the opportunity to build a very deep ConvNet, using ResNets! "
   ]
  },
  {
   "cell_type": "markdown",
   "metadata": {},
   "source": [
    "<a name='6'></a>\n",
    "## 6 - Bibliography\n",
    "\n",
    "You're always encouraged to read the official documentation. To that end, you can find the docs for the Sequential and Functional APIs here: \n",
    "\n",
    "https://www.tensorflow.org/guide/keras/sequential_model\n",
    "\n",
    "https://www.tensorflow.org/guide/keras/functional"
   ]
  }
 ],
 "metadata": {
  "coursera": {
   "course_slug": "convolutional-neural-networks",
   "graded_item_id": "bwbJV",
   "launcher_item_id": "0TkXB"
  },
  "kernelspec": {
   "display_name": "PyCharm (Convolution_model_Application)",
   "language": "python",
   "name": "pycharm-46218dbe"
  },
  "language_info": {
   "codemirror_mode": {
    "name": "ipython",
    "version": 3
   },
   "file_extension": ".py",
   "mimetype": "text/x-python",
   "name": "python",
   "nbconvert_exporter": "python",
   "pygments_lexer": "ipython3",
   "version": "3.8.13"
  }
 },
 "nbformat": 4,
 "nbformat_minor": 4
}
